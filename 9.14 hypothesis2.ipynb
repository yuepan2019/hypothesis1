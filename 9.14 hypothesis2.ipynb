{
 "cells": [
  {
   "cell_type": "code",
   "execution_count": 9,
   "metadata": {},
   "outputs": [],
   "source": [
    "f = open ('test.txt','r')\n",
    "text = f.read()\n",
    "text2 = text.lower()\n",
    "import nltk\n"
   ]
  },
  {
   "cell_type": "code",
   "execution_count": 27,
   "metadata": {},
   "outputs": [],
   "source": [
    "text_list = nltk.word_tokenize(text2)\n",
    "words = [word for word in text_list if word.isalpha()]\n",
    "from nltk.corpus import stopwords\n",
    "stop_words = set(stopwords.words('english'))\n",
    "words = [w for w in words if not w in stop_words]\n",
    "\n",
    "from nltk.probability import FreqDist\n",
    "freqDist = FreqDist(words)\n",
    "\n"
   ]
  },
  {
   "cell_type": "code",
   "execution_count": 28,
   "metadata": {},
   "outputs": [
    {
     "name": "stdout",
     "output_type": "stream",
     "text": [
      "[('one', 4), ('culture', 4), ('different', 3), ('self', 3), ('wish', 2), ('us', 2), ('influence', 2), ('important', 2), ('big', 2), ('fat', 2), ('greek', 2), ('wedding', 2), ('life', 1), ('braver', 1), ('prettier', 1), ('vardalos', 1), ('perceptions', 1), ('would', 1), ('like', 1), ('want', 1), ('others', 1), ('view', 1), ('numerous', 1), ('factors', 1), ('impact', 1), ('dynamic', 1), ('movie', 1), ('raises', 1), ('several', 1), ('questions', 1), ('relationship', 1), ('ethnic', 1), ('background', 1), ('effect', 1), ('raised', 1), ('collectivistic', 1), ('someone', 1), ('people', 1), ('feel', 1), ('necessary', 1), ('change', 1), ('way', 1), ('portray', 1), ('accepted', 1), ('another', 1), ('depicts', 1), ('shape', 1), ('autobiographical', 1), ('memories', 1), ('ca', 1)]\n"
     ]
    }
   ],
   "source": [
    "fre = list(freqDist.keys())\n",
    "fre50 = (freqDist.most_common(50))\n",
    "print(fre50)\n",
    "f.close()\n",
    "\n"
   ]
  }
 ],
 "metadata": {
  "kernelspec": {
   "display_name": "Python 3",
   "language": "python",
   "name": "python3"
  },
  "language_info": {
   "codemirror_mode": {
    "name": "ipython",
    "version": 3
   },
   "file_extension": ".py",
   "mimetype": "text/x-python",
   "name": "python",
   "nbconvert_exporter": "python",
   "pygments_lexer": "ipython3",
   "version": "3.7.3"
  }
 },
 "nbformat": 4,
 "nbformat_minor": 2
}
